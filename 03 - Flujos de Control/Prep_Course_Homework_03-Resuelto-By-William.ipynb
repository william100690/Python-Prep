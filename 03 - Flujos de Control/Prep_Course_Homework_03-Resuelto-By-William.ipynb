{
 "cells": [
  {
   "cell_type": "code",
   "execution_count": null,
   "metadata": {},
   "outputs": [],
   "source": [
    "#1) Crear una variable que contenga un elemento del conjunto de números enteros y luego imprimir por pantalla si es mayor o menor a cero\n",
    "n = 10\n",
    "if n > 0:\n",
    "    print(f\"El numero {n} es mayor a cero por lo tanto es positivo\")\n",
    "elif n < 0:\n",
    "    print(f\"El numero {n} es menor a cero por lo tanto es negativo\")\n",
    "else:\n",
    "    print(f\"El numero {n} es igual a cero\")"
   ]
  },
  {
   "cell_type": "code",
   "execution_count": null,
   "metadata": {},
   "outputs": [],
   "source": [
    "# 2) Crear dos variables y un condicional que informe si son del mismo tipo de dato\n",
    "var1 = \"hola\"\n",
    "var2 = 35\n",
    "if type(var1) == type(var2):\n",
    "    print(\"Las variables var1 y var2 tienen el mismo tipo de dato\")\n",
    "elif type(var1) != type(var2):\n",
    "    print(\"Las variables var1 y var2 tienen diferentes tipos de datos\")\n"
   ]
  },
  {
   "cell_type": "code",
   "execution_count": null,
   "metadata": {},
   "outputs": [],
   "source": [
    "#3) Para los valores enteros del 1 al 20, imprimir por pantalla si es par o impar\n",
    "for i in range(1,21):\n",
    "    if i%2 == 0:\n",
    "        print(f\"El numero {i} es par\")\n",
    "    elif i%2 != 0:\n",
    "        print(f\"EL numero {i} es impar\")"
   ]
  },
  {
   "cell_type": "markdown",
   "metadata": {},
   "source": [
    "#4) En un ciclo for mostrar para los valores entre 0 y 5 el resultado de elevarlo a la potencia igual a 3\n",
    "for i in range(0,6):\n",
    "    print(f\"El numero {i} elevado a 3 = {i**3}\")"
   ]
  },
  {
   "cell_type": "code",
   "execution_count": null,
   "metadata": {},
   "outputs": [],
   "source": [
    "#5) Crear una variable que contenga un número entero y realizar un ciclo for la misma cantidad de ciclos\n",
    "n = 5\n",
    "for i in range(1,n+1):\n",
    "    print(f\"ciclo{i}\")"
   ]
  },
  {
   "cell_type": "code",
   "execution_count": null,
   "metadata": {},
   "outputs": [],
   "source": [
    "# 6) Utilizar un ciclo while para realizar el factorial de un número guardado en una variable, sólo si la variable contiene un número entero mayor a 0\n",
    "n = 5\n"
   ]
  },
  {
   "cell_type": "code",
   "execution_count": null,
   "metadata": {},
   "outputs": [],
   "source": [
    "# 7) Crear un ciclo for dentro de un ciclo while"
   ]
  },
  {
   "cell_type": "code",
   "execution_count": null,
   "metadata": {},
   "outputs": [],
   "source": [
    "# 8) Crear un ciclo while dentro de un ciclo for\n"
   ]
  },
  {
   "cell_type": "code",
   "execution_count": 70,
   "metadata": {},
   "outputs": [
    {
     "name": "stdout",
     "output_type": "stream",
     "text": [
      "El numero 2 es primo\n",
      "El numero 3 es primo\n",
      "El numero 5 es primo\n",
      "El numero 7 es primo\n",
      "El numero 11 es primo\n",
      "El numero 13 es primo\n",
      "El numero 17 es primo\n",
      "El numero 19 es primo\n",
      "El numero 23 es primo\n",
      "El numero 29 es primo\n"
     ]
    }
   ],
   "source": [
    "# 9) Imprimir los números primos existentes entre 0 y 30\n",
    "for i in range(1,31):\n",
    "    cont = 0\n",
    "    for j in range(1,31):\n",
    "        if i%j == 0:\n",
    "            cont += 1\n",
    "    if cont == 2:\n",
    "        print(f\"El numero {i} es primo\")"
   ]
  },
  {
   "cell_type": "code",
   "execution_count": 53,
   "metadata": {},
   "outputs": [],
   "source": [
    "# 10) ¿Se puede mejorar el proceso del punto 9? Utilizar las sentencias break y/ó continue para tal fin\n"
   ]
  },
  {
   "cell_type": "code",
   "execution_count": null,
   "metadata": {},
   "outputs": [],
   "source": [
    "# 11) En los puntos 9 y 10, se diseño un código que encuentra números primos y además se lo optimizó. ¿Es posible saber en qué medida se optimizó?\n",
    "# Si pq estamos usando menos lineas de código"
   ]
  },
  {
   "cell_type": "code",
   "execution_count": null,
   "metadata": {},
   "outputs": [],
   "source": [
    "# 12) Si la cantidad de números que se evalúa es mayor a treinta, esa optimización crece?\n",
    "#Si p1 el código esta pensado para cualquier cantidad de valores"
   ]
  },
  {
   "cell_type": "code",
   "execution_count": 65,
   "metadata": {},
   "outputs": [
    {
     "name": "stdout",
     "output_type": "stream",
     "text": [
      "108\n",
      "120\n",
      "132\n",
      "144\n",
      "156\n",
      "168\n",
      "180\n",
      "192\n",
      "204\n",
      "216\n",
      "228\n",
      "240\n",
      "252\n",
      "264\n",
      "276\n",
      "288\n"
     ]
    }
   ],
   "source": [
    "#13) Aplicando continue, armar un ciclo while que solo imprima los valores divisibles por 12, dentro del rango de números de 100 a 300\n",
    "n = 100\n",
    "while n < 300:\n",
    "    if (n%12) == 0:\n",
    "        print(n)\n",
    "    n += 1"
   ]
  },
  {
   "cell_type": "code",
   "execution_count": 75,
   "metadata": {},
   "outputs": [
    {
     "name": "stdout",
     "output_type": "stream",
     "text": [
      "El numero 20 no es primo\n"
     ]
    }
   ],
   "source": [
    "# 14) Utilizar la función **input()** que permite hacer ingresos por teclado, para encontrar números primos y dar la opción al usario de buscar el siguiente\n",
    "numero = int(input(\"Introduce un numero\"))\n",
    "\n",
    "cont = 0\n",
    "for j in range(1,numero):\n",
    "    if numero%j == 0:\n",
    "        cont += 1\n",
    "if cont == 2:\n",
    "    print(f\"El numero {numero} es primo\")\n",
    "else:\n",
    "    print(f\"El numero {numero} no es primo\")"
   ]
  },
  {
   "cell_type": "code",
   "execution_count": 76,
   "metadata": {},
   "outputs": [
    {
     "name": "stdout",
     "output_type": "stream",
     "text": [
      "102\n"
     ]
    }
   ],
   "source": [
    "# 15) Crear un ciclo while que encuentre dentro del rango de 100 a 300 el primer número divisible por 3 y además múltiplo de 6\n",
    "n = 100\n",
    "while n < 300:\n",
    "    if (n % 3 == 0) and (n%6 == 0 ):\n",
    "        print(n)\n",
    "        break\n",
    "    n += 1"
   ]
  }
 ],
 "metadata": {
  "kernelspec": {
   "display_name": "Python 3",
   "language": "python",
   "name": "python3"
  },
  "language_info": {
   "codemirror_mode": {
    "name": "ipython",
    "version": 3
   },
   "file_extension": ".py",
   "mimetype": "text/x-python",
   "name": "python",
   "nbconvert_exporter": "python",
   "pygments_lexer": "ipython3",
   "version": "3.11.2"
  },
  "orig_nbformat": 4,
  "vscode": {
   "interpreter": {
    "hash": "0f936f15a1645b7aa20087d3a97f1d17223522717264c1db5bbe498837b523be"
   }
  }
 },
 "nbformat": 4,
 "nbformat_minor": 2
}

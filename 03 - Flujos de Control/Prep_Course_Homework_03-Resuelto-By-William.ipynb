{
 "cells": [
  {
   "cell_type": "code",
   "execution_count": null,
   "metadata": {},
   "outputs": [],
   "source": [
    "#1) Crear una variable que contenga un elemento del conjunto de números enteros y luego imprimir por pantalla si es mayor o menor a cero\n",
    "n = 10\n",
    "if n > 0:\n",
    "    print(f\"El numero {n} es mayor a cero por lo tanto es positivo\")\n",
    "elif n < 0:\n",
    "    print(f\"El numero {n} es menor a cero por lo tanto es negativo\")\n",
    "else:\n",
    "    print(f\"El numero {n} es igual a cero\")"
   ]
  },
  {
   "cell_type": "code",
   "execution_count": null,
   "metadata": {},
   "outputs": [],
   "source": [
    "# 2) Crear dos variables y un condicional que informe si son del mismo tipo de dato\n",
    "var1 = \"hola\"\n",
    "var2 = 35\n",
    "if type(var1) == type(var2):\n",
    "    print(\"Las variables var1 y var2 tienen el mismo tipo de dato\")\n",
    "elif type(var1) != type(var2):\n",
    "    print(\"Las variables var1 y var2 tienen diferentes tipos de datos\")\n"
   ]
  },
  {
   "cell_type": "code",
   "execution_count": null,
   "metadata": {},
   "outputs": [],
   "source": [
    "#3) Para los valores enteros del 1 al 20, imprimir por pantalla si es par o impar\n",
    "for i in range(1,21):\n",
    "    if i%2 == 0:\n",
    "        print(f\"El numero {i} es par\")\n",
    "    elif i%2 != 0:\n",
    "        print(f\"EL numero {i} es impar\")"
   ]
  },
  {
   "cell_type": "code",
   "execution_count": 2,
   "metadata": {},
   "outputs": [
    {
     "name": "stdout",
     "output_type": "stream",
     "text": [
      "El numero 0 elevado a 3 = 0\n",
      "El numero 1 elevado a 3 = 1\n",
      "El numero 2 elevado a 3 = 8\n",
      "El numero 3 elevado a 3 = 27\n",
      "El numero 4 elevado a 3 = 64\n",
      "El numero 5 elevado a 3 = 125\n"
     ]
    }
   ],
   "source": [
    "#4) En un ciclo for mostrar para los valores entre 0 y 5 el resultado de elevarlo a la potencia igual a 3\n",
    "for i in range(0,6):\n",
    "    print(f\"El numero {i} elevado a 3 = {i**3}\")"
   ]
  },
  {
   "cell_type": "code",
   "execution_count": 10,
   "metadata": {},
   "outputs": [
    {
     "name": "stdout",
     "output_type": "stream",
     "text": [
      "ciclo 1\n",
      "ciclo 2\n",
      "ciclo 3\n",
      "ciclo 4\n",
      "ciclo 5\n"
     ]
    }
   ],
   "source": [
    "#5) Crear una variable que contenga un número entero y realizar un ciclo for la misma cantidad de ciclos\n",
    "n = 5\n",
    "for i in range(1,n+1):\n",
    "    print(f\"ciclo {i}\")"
   ]
  },
  {
   "cell_type": "code",
   "execution_count": 3,
   "metadata": {},
   "outputs": [
    {
     "name": "stdout",
     "output_type": "stream",
     "text": [
      "Obtener el factorial de 5\n",
      "El factorial es 120\n"
     ]
    }
   ],
   "source": [
    "# 6) Utilizar un ciclo while para realizar el factorial de un número guardado en una variable, sólo si la variable contiene un número entero mayor a 0\n",
    "n = 5\n",
    "print(f\"Obtener el factorial de {n}\")\n",
    "if (type(n) == int) and (n>0):\n",
    "    factorial = n\n",
    "    while n > 2:\n",
    "        n -= 1\n",
    "        factorial = factorial * n\n",
    "    print(f\"El factorial es {factorial}\")"
   ]
  },
  {
   "cell_type": "code",
   "execution_count": 8,
   "metadata": {},
   "outputs": [
    {
     "name": "stdout",
     "output_type": "stream",
     "text": [
      "Ciclo while numero 1\n",
      "ciclo for numero 1\n",
      "Ciclo while numero 2\n",
      "ciclo for numero 1\n",
      "ciclo for numero 2\n",
      "Ciclo while numero 3\n",
      "ciclo for numero 1\n",
      "ciclo for numero 2\n",
      "ciclo for numero 3\n",
      "Ciclo while numero 4\n",
      "ciclo for numero 1\n",
      "ciclo for numero 2\n",
      "ciclo for numero 3\n",
      "ciclo for numero 4\n",
      "Ciclo while numero 5\n",
      "ciclo for numero 1\n",
      "ciclo for numero 2\n",
      "ciclo for numero 3\n",
      "ciclo for numero 4\n",
      "ciclo for numero 5\n"
     ]
    }
   ],
   "source": [
    "# 7) Crear un ciclo for dentro de un ciclo while\n",
    "n = 0\n",
    "while n < 5:\n",
    "    n += 1\n",
    "    print(f\"Ciclo while numero {n}\")\n",
    "    for i in range(1,n+1):\n",
    "        print(F\"ciclo for numero {i}\")\n",
    "        \n"
   ]
  },
  {
   "cell_type": "code",
   "execution_count": 12,
   "metadata": {},
   "outputs": [
    {
     "name": "stdout",
     "output_type": "stream",
     "text": [
      "Estamos en el ciclo for numero 1\n",
      "Estamos en ciclo while numero 1\n",
      "Estamos en ciclo while numero 2\n",
      "Estamos en ciclo while numero 3\n",
      "Estamos en ciclo while numero 4\n",
      "Estamos en ciclo while numero 5\n",
      "Estamos en el ciclo for numero 2\n",
      "Estamos en ciclo while numero 1\n",
      "Estamos en ciclo while numero 2\n",
      "Estamos en ciclo while numero 3\n",
      "Estamos en ciclo while numero 4\n",
      "Estamos en ciclo while numero 5\n",
      "Estamos en el ciclo for numero 3\n",
      "Estamos en ciclo while numero 1\n",
      "Estamos en ciclo while numero 2\n",
      "Estamos en ciclo while numero 3\n",
      "Estamos en ciclo while numero 4\n",
      "Estamos en ciclo while numero 5\n",
      "Estamos en el ciclo for numero 4\n",
      "Estamos en ciclo while numero 1\n",
      "Estamos en ciclo while numero 2\n",
      "Estamos en ciclo while numero 3\n",
      "Estamos en ciclo while numero 4\n",
      "Estamos en ciclo while numero 5\n",
      "Estamos en el ciclo for numero 5\n",
      "Estamos en ciclo while numero 1\n",
      "Estamos en ciclo while numero 2\n",
      "Estamos en ciclo while numero 3\n",
      "Estamos en ciclo while numero 4\n",
      "Estamos en ciclo while numero 5\n"
     ]
    }
   ],
   "source": [
    "# 8) Crear un ciclo while dentro de un ciclo for\n",
    "n = 5\n",
    "for i in range(1,n+1):\n",
    "    print(f\"Estamos en el ciclo for numero {i}\")\n",
    "    b = 0\n",
    "    while b < 5:\n",
    "        b += 1\n",
    "        print(f\"Estamos en ciclo while numero {b}\")"
   ]
  },
  {
   "cell_type": "code",
   "execution_count": 65,
   "metadata": {},
   "outputs": [
    {
     "name": "stdout",
     "output_type": "stream",
     "text": [
      "El numero 1 es primo\n",
      "El numero 2 es primo\n",
      "El numero 3 es primo\n",
      "El numero 5 es primo\n",
      "El numero 7 es primo\n",
      "El numero 11 es primo\n",
      "El numero 13 es primo\n",
      "El numero 17 es primo\n",
      "El numero 19 es primo\n",
      "El numero 23 es primo\n",
      "El numero 29 es primo\n",
      "La cantidad de ciclos sin el break son 465\n"
     ]
    }
   ],
   "source": [
    "# 9) Imprimir los números primos existentes entre 0 y 30\n",
    "n = 0\n",
    "ciclos_9 = 0\n",
    "while n < 30:\n",
    "    cont = 0\n",
    "    n += 1\n",
    "    for j in range(1,n+1):\n",
    "        ciclos_9 +=1\n",
    "        if n%j == 0:\n",
    "            cont += 1\n",
    "    \n",
    "    if cont <= 2:\n",
    "        print(f\"El numero {n} es primo\")\n",
    "        \n",
    "print(f\"La cantidad de ciclos sin el break son {ciclos_9}\")"
   ]
  },
  {
   "cell_type": "code",
   "execution_count": 64,
   "metadata": {},
   "outputs": [
    {
     "name": "stdout",
     "output_type": "stream",
     "text": [
      "El numero 1 es primo\n",
      "El numero 2 es primo\n",
      "El numero 3 es primo\n",
      "El numero 5 es primo\n",
      "El numero 7 es primo\n",
      "El numero 11 es primo\n",
      "El numero 13 es primo\n",
      "El numero 17 es primo\n",
      "El numero 19 es primo\n",
      "El numero 23 es primo\n",
      "El numero 29 es primo\n",
      "La cantidad de ciclos con el break son 256\n"
     ]
    }
   ],
   "source": [
    "# 10) ¿Se puede mejorar el proceso del punto 9? Utilizar las sentencias break y/ó continue para tal fin\n",
    "n = 0\n",
    "ciclos_10 = 0\n",
    "while n < 30:\n",
    "    cont = 0\n",
    "    n += 1\n",
    "    for j in range(1,n+1):\n",
    "        ciclos_10 +=1\n",
    "        if n%j == 0:\n",
    "            cont += 1\n",
    "            if cont > 2:\n",
    "                break\n",
    "            \n",
    "    if cont <= 2:\n",
    "        print(f\"El numero {n} es primo\")\n",
    "        \n",
    "print(f\"La cantidad de ciclos con el break son {ciclos_10}\")"
   ]
  },
  {
   "cell_type": "code",
   "execution_count": 53,
   "metadata": {},
   "outputs": [
    {
     "name": "stdout",
     "output_type": "stream",
     "text": [
      "Se optimizo un 0.5505376344086022% aplicando el break\n"
     ]
    }
   ],
   "source": [
    "# 11) En los puntos 9 y 10, se diseño un código que encuentra números primos y además se lo optimizó. ¿Es posible saber en qué medida se optimizó?\n",
    "print(f\"Se optimizo un {ciclos_10/ciclos_9}% aplicando el break\")"
   ]
  },
  {
   "cell_type": "code",
   "execution_count": 63,
   "metadata": {},
   "outputs": [
    {
     "name": "stdout",
     "output_type": "stream",
     "text": [
      "El numero 1 es primo\n",
      "El numero 2 es primo\n",
      "El numero 3 es primo\n",
      "El numero 5 es primo\n",
      "El numero 7 es primo\n",
      "El numero 11 es primo\n",
      "El numero 13 es primo\n",
      "El numero 17 es primo\n",
      "El numero 19 es primo\n",
      "El numero 23 es primo\n",
      "El numero 29 es primo\n",
      "El numero 31 es primo\n",
      "El numero 37 es primo\n",
      "El numero 41 es primo\n",
      "El numero 43 es primo\n",
      "El numero 47 es primo\n",
      "El numero 53 es primo\n",
      "El numero 59 es primo\n",
      "El numero 61 es primo\n",
      "El numero 67 es primo\n",
      "El numero 71 es primo\n",
      "El numero 73 es primo\n",
      "El numero 79 es primo\n",
      "El numero 83 es primo\n",
      "El numero 89 es primo\n",
      "El numero 97 es primo\n",
      "\n",
      "El numero 1 es primo\n",
      "El numero 2 es primo\n",
      "El numero 3 es primo\n",
      "El numero 5 es primo\n",
      "El numero 7 es primo\n",
      "El numero 11 es primo\n",
      "El numero 13 es primo\n",
      "El numero 17 es primo\n",
      "El numero 19 es primo\n",
      "El numero 23 es primo\n",
      "El numero 29 es primo\n",
      "El numero 31 es primo\n",
      "El numero 37 es primo\n",
      "El numero 41 es primo\n",
      "El numero 43 es primo\n",
      "El numero 47 es primo\n",
      "El numero 53 es primo\n",
      "El numero 59 es primo\n",
      "El numero 61 es primo\n",
      "El numero 67 es primo\n",
      "El numero 71 es primo\n",
      "El numero 73 es primo\n",
      "El numero 79 es primo\n",
      "El numero 83 es primo\n",
      "El numero 89 es primo\n",
      "El numero 97 es primo\n",
      "\n",
      "La cantidad de ciclos sin el break son 5050\n",
      "La cantidad de ciclos con el break son 1890\n",
      "Se optimizo un 0.37425742574257426% aplicando el break\n"
     ]
    }
   ],
   "source": [
    "# 12) Si la cantidad de números que se evalúa es mayor a treinta, esa optimización crece?\n",
    "    # 9) Imprimir los números primos existentes entre 0 y 30\n",
    "tope = 100\n",
    "n = 0\n",
    "ciclos_9 = 0\n",
    "while n < tope:\n",
    "    cont = 0\n",
    "    n += 1\n",
    "    for j in range(1,n+1):\n",
    "        ciclos_9 +=1\n",
    "        if n%j == 0:\n",
    "            cont += 1\n",
    "    \n",
    "    if cont <= 2:\n",
    "        print(f\"El numero {n} es primo\")\n",
    "\n",
    "print(\"\")\n",
    "    # 10) ¿Se puede mejorar el proceso del punto 9? Utilizar las sentencias break y/ó continue para tal fin\n",
    "n = 0\n",
    "ciclos_10 = 0\n",
    "while n < tope:\n",
    "    cont = 0\n",
    "    n += 1\n",
    "    for j in range(1,n+1):\n",
    "        ciclos_10 +=1\n",
    "        if n%j == 0:\n",
    "            cont += 1\n",
    "            if cont > 2:\n",
    "                break\n",
    "            \n",
    "    if cont <= 2:\n",
    "        print(f\"El numero {n} es primo\")\n",
    "        \n",
    "print(\"\")\n",
    "print(f\"La cantidad de ciclos sin el break son {ciclos_9}\")\n",
    "print(f\"La cantidad de ciclos con el break son {ciclos_10}\")\n",
    "print(f\"Se optimizo un {ciclos_10/ciclos_9}% aplicando el break\")\n"
   ]
  },
  {
   "cell_type": "code",
   "execution_count": 61,
   "metadata": {},
   "outputs": [
    {
     "name": "stdout",
     "output_type": "stream",
     "text": [
      "108\n",
      "120\n",
      "132\n",
      "144\n",
      "156\n",
      "168\n",
      "180\n",
      "192\n",
      "204\n",
      "216\n",
      "228\n",
      "240\n",
      "252\n",
      "264\n",
      "276\n",
      "288\n",
      "300\n"
     ]
    }
   ],
   "source": [
    "#13) Aplicando continue, armar un ciclo while que solo imprima los valores divisibles por 12, dentro del rango de números de 100 a 300\n",
    "n = 100\n",
    "while n < 300:\n",
    "    n += 1\n",
    "    if (n%12) == 0:\n",
    "        print(n)"
   ]
  },
  {
   "cell_type": "code",
   "execution_count": 71,
   "metadata": {},
   "outputs": [
    {
     "name": "stdout",
     "output_type": "stream",
     "text": [
      "El numero 1 es primo\n",
      "El numero 2 es primo\n",
      "El numero 3 es primo\n",
      "El numero 5 es primo\n",
      "El numero 7 es primo\n",
      "El numero 11 es primo\n",
      "El numero 13 es primo\n",
      "El numero 17 es primo\n",
      "El numero 19 es primo\n"
     ]
    }
   ],
   "source": [
    "# 14) Utilizar la función **input()** que permite hacer ingresos por teclado, para encontrar números primos y dar la opción al usario de buscar el siguiente\n",
    "numero = int(input(\"Introduce un numero\"))\n",
    "\n",
    "n = 0\n",
    "ciclos_10 = 0\n",
    "while n < numero:\n",
    "    cont = 0\n",
    "    n += 1\n",
    "    for j in range(1,n+1):\n",
    "        ciclos_10 +=1\n",
    "        if n%j == 0:\n",
    "            cont += 1\n",
    "            if cont > 2:\n",
    "                break\n",
    "            \n",
    "    if cont <= 2:\n",
    "        print(f\"El numero {n} es primo\")"
   ]
  },
  {
   "cell_type": "code",
   "execution_count": 67,
   "metadata": {},
   "outputs": [
    {
     "name": "stdout",
     "output_type": "stream",
     "text": [
      "102\n"
     ]
    }
   ],
   "source": [
    "# 15) Crear un ciclo while que encuentre dentro del rango de 100 a 300 el primer número divisible por 3 y además múltiplo de 6\n",
    "n = 100\n",
    "while n < 300:\n",
    "    if (n % 3 == 0) and (n%6 == 0 ):\n",
    "        print(n)\n",
    "        break\n",
    "    n += 1"
   ]
  }
 ],
 "metadata": {
  "kernelspec": {
   "display_name": "Python 3",
   "language": "python",
   "name": "python3"
  },
  "language_info": {
   "codemirror_mode": {
    "name": "ipython",
    "version": 3
   },
   "file_extension": ".py",
   "mimetype": "text/x-python",
   "name": "python",
   "nbconvert_exporter": "python",
   "pygments_lexer": "ipython3",
   "version": "3.11.2"
  },
  "orig_nbformat": 4,
  "vscode": {
   "interpreter": {
    "hash": "0f936f15a1645b7aa20087d3a97f1d17223522717264c1db5bbe498837b523be"
   }
  }
 },
 "nbformat": 4,
 "nbformat_minor": 2
}

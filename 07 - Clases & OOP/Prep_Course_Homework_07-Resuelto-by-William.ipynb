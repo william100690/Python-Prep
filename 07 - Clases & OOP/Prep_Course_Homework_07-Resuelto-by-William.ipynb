{
 "cells": [
  {
   "cell_type": "code",
   "execution_count": 79,
   "metadata": {},
   "outputs": [],
   "source": [
    "#1) Crear la clase vehículo que contenga los atributos:<br>\n",
    "#Color<br>\n",
    "#Si es moto, auto, camioneta ó camión<br>\n",
    "#Cilindrada del motor\n",
    "\n",
    "class vehiculo:\n",
    "    def __init__(self,color,tipo,cilindrada):\n",
    "        self.color = color\n",
    "        self.tipo = tipo\n",
    "        self.cilindrada = cilindrada \n",
    "\n",
    "#2) A la clase Vehiculo creada en el punto 1, agregar los siguientes métodos:<br>\n",
    "#Acelerar<br>\n",
    "#Frenar<br>\n",
    "#Doblar<br>\n",
    "\n",
    "    def acelerar(self,tipo):\n",
    "        if tipo == \"auto\":\n",
    "            print(\"EL auto acelera de 0 a 100 en 8 seg\")\n",
    "        if tipo == \"moto\":\n",
    "            print(\"La moto acelera de 0 a 100 en 5 seg\")\n",
    "        if tipo == \"camioneta\":\n",
    "            print(\"La camioneta acelera de 0 a 100 en 45 seg\")\n",
    "\n",
    "    def frenar(self):\n",
    "        pass\n",
    "\n",
    "    def doblar(self):\n",
    "        pass\n",
    "#4) Agregar a la clase Vehiculo, un método que muestre su estado, es decir, \n",
    "#a que velocidad se encuentra y su dirección. Y otro método que muestre color, tipo y cilindrada\n",
    "    def estado(self,tipo):\n",
    "        if tipo == \"auto\":\n",
    "            print(\"El auto va a 50km/h con dirección norte\")\n",
    "        if tipo == \"moto\":\n",
    "            print(\"La moto va a 80km/h con direccion sur\")\n",
    "        if tipo == \"camioneta\":\n",
    "            print(\"La camioneta va a 30km/h con direccion este\")\n",
    "    \n",
    "    def caracteristicas(self,color,tipo,cilindrada):\n",
    "        if tipo == \"auto\":\n",
    "            print(f\"El vehiculo 1 es del tipo {tipo} de coolor {color} con cilindrada {cilindrada}\")\n",
    "        if tipo == \"moto\":\n",
    "            print(f\"El vehiculo 1 es del tipo {tipo} de coolor {color} con cilindrada {cilindrada}\")\n",
    "        if tipo == \"camioneta\":\n",
    "            print(f\"El vehiculo 1 es del tipo {tipo} de coolor {color} con cilindrada {cilindrada}\")\n"
   ]
  },
  {
   "cell_type": "code",
   "execution_count": 80,
   "metadata": {},
   "outputs": [],
   "source": [
    "#3) Instanciar 3 objetos de la clase vehículo y ejecutar sus métodos, probar luego el resultado\n",
    "v1 = vehiculo(\"Rojo\",\"moto\",\"300cc\")\n",
    "v2 = vehiculo(\"Blanco\",\"auto\",\"6 cilindros\")\n",
    "v3 = vehiculo(\"Negra\",\"camioneta\",\"8 cilindros\")  "
   ]
  },
  {
   "cell_type": "code",
   "execution_count": 75,
   "metadata": {},
   "outputs": [
    {
     "name": "stdout",
     "output_type": "stream",
     "text": [
      "El vehiculo 1 es del tipo moto color Rojo y cilindrada 300cc \n",
      "La moto acelera de 0 a 100 en 5 seg\n",
      "El vehiculo 2 es del tipo auto color Blanco y cilindrada 6 cilindros \n",
      "EL auto acelera de 0 a 100 en 8 seg\n"
     ]
    }
   ],
   "source": [
    "#3.3 probar los resultados\n",
    "print(f\"El vehiculo 1 es del tipo {v1.tipo} color {v1.color} y cilindrada {v1.cilindrada} \")\n",
    "v1.acelerar(v1.tipo)\n",
    "print(f\"El vehiculo 2 es del tipo {v2.tipo} color {v2.color} y cilindrada {v2.cilindrada} \")\n",
    "v2.acelerar(v2.tipo)\n",
    "\n"
   ]
  },
  {
   "cell_type": "code",
   "execution_count": 82,
   "metadata": {},
   "outputs": [
    {
     "name": "stdout",
     "output_type": "stream",
     "text": [
      "El vehiculo 1 es del tipo moto de coolor Rojo con cilindrada 300cc\n",
      "La moto va a 80km/h con direccion sur\n"
     ]
    }
   ],
   "source": [
    "#4.4) Provar el punto 4\n",
    "v1.caracteristicas(v1.color,v1.tipo,v1.cilindrada)\n",
    "v1.estado(v1.tipo)\n"
   ]
  },
  {
   "cell_type": "code",
   "execution_count": 111,
   "metadata": {},
   "outputs": [],
   "source": [
    "#5) Crear una clase que permita utilizar las funciones creadas en la práctica del módulo 6<br>\n",
    "#Verificar Primo<br>\n",
    "#Valor modal<br>\n",
    "#Conversión grados<br>\n",
    "#Factorial<br>\n",
    "class prueba:\n",
    "    def __init__(self,numero):\n",
    "        self.numero = numero\n",
    "\n",
    "    def primo(self):\n",
    "        cont = 0\n",
    "        for j in range(1, self.numero +1):\n",
    "            if self.numero %j == 0:\n",
    "                cont += 1\n",
    "    \n",
    "        if cont <= 2:\n",
    "            return True\n",
    "        else:\n",
    "            return False\n",
    "        \n",
    "    def conversion(self,origen,destino):\n",
    "        if origen == \"C\" and destino == \"K\" or destino == \"F\":\n",
    "            temperatura1 = f\"{self.numero}°C equivalen a {self.numero + 273.15}K\"\n",
    "            temperatura2 = f\"{self.numero}°C equivalen a {(self.numero*1.8) + 32}°F\"\n",
    "        elif origen == \"F\" and destino == \"C\" or destino == \"K\":\n",
    "            temperatura1 = f\"{self.numero}°F equivalen a {(self.numero-32)*(5/9)}°C\"\n",
    "            temperatura2 = f\"{self.numero}°F equivalen a  {(self.numero+459.67)*(5/9)}°K\"\n",
    "        elif origen == \"K\" and destino == \"C\" or destino == \"F\":\n",
    "            temperatura1 = f\"{self.numero}°K equivalen a {self.numero - 273.15}°C\"\n",
    "            temperatura2 = f\"{self.numero}°K equivalen a {1.8 * (self.numero-273) + 32}°F\"\n",
    "        return temperatura1,temperatura2\n",
    "    \n",
    "    def factorial(self):\n",
    "        elemento = 1\n",
    "        for i in range(1,self.numero+1):\n",
    "            elemento = elemento * i\n",
    "        return f\"El factorial de {self.numero} es {elemento}\""
   ]
  },
  {
   "cell_type": "code",
   "execution_count": 122,
   "metadata": {},
   "outputs": [
    {
     "name": "stdout",
     "output_type": "stream",
     "text": [
      "True\n",
      "('2°F equivalen a -16.666666666666668°C', '2°F equivalen a  256.48333333333335°K')\n",
      "El factorial de 2 es 2\n"
     ]
    }
   ],
   "source": [
    "#6) Probar las funciones incorporadas en la clase del punto 5\n",
    "n1 = prueba(2)\n",
    "print(n1.primo())\n",
    "print(n1.conversion(\"F\",\"C\"))\n",
    "print(n1.factorial())\n"
   ]
  },
  {
   "cell_type": "code",
   "execution_count": 123,
   "metadata": {},
   "outputs": [],
   "source": [
    "#7) Es necesario que la clase creada en el punto 5 \n",
    "#contenga una lista, sobre la cual se aplquen las funciones incorporadas"
   ]
  },
  {
   "cell_type": "code",
   "execution_count": 129,
   "metadata": {},
   "outputs": [],
   "source": [
    "#8) Crear un archivo .py aparte y ubicar allí la clase generada en el punto anterior. \n",
    "#Luego realizar la importación del módulo y probar alguna de sus funciones\n"
   ]
  }
 ],
 "metadata": {
  "kernelspec": {
   "display_name": "Python 3",
   "language": "python",
   "name": "python3"
  },
  "language_info": {
   "codemirror_mode": {
    "name": "ipython",
    "version": 3
   },
   "file_extension": ".py",
   "mimetype": "text/x-python",
   "name": "python",
   "nbconvert_exporter": "python",
   "pygments_lexer": "ipython3",
   "version": "3.11.2"
  },
  "orig_nbformat": 4,
  "vscode": {
   "interpreter": {
    "hash": "0f936f15a1645b7aa20087d3a97f1d17223522717264c1db5bbe498837b523be"
   }
  }
 },
 "nbformat": 4,
 "nbformat_minor": 2
}

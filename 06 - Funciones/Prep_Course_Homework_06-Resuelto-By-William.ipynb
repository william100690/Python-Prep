{
 "cells": [
  {
   "cell_type": "code",
   "execution_count": 5,
   "metadata": {},
   "outputs": [
    {
     "name": "stdout",
     "output_type": "stream",
     "text": [
      "El numero 25 es primo? False\n"
     ]
    }
   ],
   "source": [
    "#1) Crear una función que reciba un número como parámetro y devuelva si True si es primo y False si no lo es\n",
    "def primo(numero):\n",
    "    cont = 0\n",
    "    for j in range(1,numero+1):\n",
    "        if numero%j == 0:\n",
    "            cont += 1\n",
    "    \n",
    "    if cont <= 2:\n",
    "        return True\n",
    "    else:\n",
    "        return False\n",
    "\n",
    "num = int(input(\"Introduce un numero\\n\"))\n",
    "print(f\"El numero {num} es primo? {primo(num)}\")\n",
    "\n"
   ]
  },
  {
   "cell_type": "code",
   "execution_count": 7,
   "metadata": {},
   "outputs": [
    {
     "name": "stdout",
     "output_type": "stream",
     "text": [
      "[1, 2, 3, 5, 7]\n"
     ]
    }
   ],
   "source": [
    "#2) Utilizando la función del punto 1, realizar otra función que reciba de parámetro una lista de números y devuelva sólo aquellos que son primos en otra lista\n",
    "lista1 = [1,2,3,4,5,6,7,8,9,10]\n",
    "\n",
    "def primo(numero):\n",
    "    primos =[]\n",
    "    no_primos =[]\n",
    "    for i in numero:\n",
    "        cont = 0\n",
    "        for j in range(1,i+1):\n",
    "            if i%j == 0:\n",
    "                cont += 1\n",
    "    \n",
    "        if cont <= 2:\n",
    "            primos.append(i)\n",
    "        else:\n",
    "            no_primos.append(i)\n",
    "    return primos\n",
    "\n",
    "print(primo(lista1))"
   ]
  },
  {
   "cell_type": "code",
   "execution_count": 40,
   "metadata": {},
   "outputs": [
    {
     "data": {
      "text/plain": [
       "'El numero 24 es el que se repite mayor numero de veces y aparece 3 veces'"
      ]
     },
     "execution_count": 40,
     "metadata": {},
     "output_type": "execute_result"
    }
   ],
   "source": [
    "# 3) Crear una función que al recibir una lista de números, devuelva el que más se repite y cuántas veces lo hace. Si hay más de un \"más repetido\", que devuelva cualquiera\n",
    "lista = [45,42,24,45,12,24,10,45,24]\n",
    "\n",
    "def mayor_cantidad(lista):\n",
    "    mayor = 0\n",
    "    for i in lista:\n",
    "        repetitivo=lista.count(i)\n",
    "        if mayor < repetitivo:\n",
    "            mayor = repetitivo\n",
    "            numero = i\n",
    "    return f\"El numero {i} es el que se repite mayor numero de veces y aparece {repetitivo} veces\"\n",
    "\n",
    "\n",
    "mayor_cantidad(lista)\n"
   ]
  },
  {
   "cell_type": "code",
   "execution_count": 89,
   "metadata": {},
   "outputs": [
    {
     "name": "stdout",
     "output_type": "stream",
     "text": [
      "[45, 24, 24, 24, 24, 24]\n"
     ]
    }
   ],
   "source": [
    "#4) A la función del punto 3, agregar un parámetro más, que permita elegir si se requiere el menor o el mayor de los mas repetidos.\n",
    "lista = [45,42,24,45,12,24,10,45,24,24,24,12,12,12]\n",
    "\n",
    "def mayor_cantidad(lista):\n",
    "    mayor = 0\n",
    "    lista_repetitivos =[]\n",
    "    for i in lista:\n",
    "        repetitivo=lista.count(i)\n",
    "        if mayor <= repetitivo:\n",
    "            mayor = repetitivo\n",
    "            numero = i\n",
    "            lista_repetitivos.append(i)\n",
    "    print(lista_repetitivos)\n",
    "    \n",
    "\n",
    "mayor_cantidad(lista)"
   ]
  },
  {
   "cell_type": "code",
   "execution_count": 60,
   "metadata": {},
   "outputs": [
    {
     "data": {
      "text/plain": [
       "104.0"
      ]
     },
     "execution_count": 60,
     "metadata": {},
     "output_type": "execute_result"
    }
   ],
   "source": [
    "#5) Crear una función que convierta entre grados Celsius, Farenheit y Kelvin<br>\n",
    "#Debe recibir 3 parámetros: el valor, la medida de orígen y la medida de destino\n",
    "def conversion(valor,origen,destino):\n",
    "    if origen == \"C\" and destino == \"K\":\n",
    "        temperatura = valor + 273.15\n",
    "    elif origen == \"C\" and destino == \"F\":\n",
    "        temperatura = (valor*1.8) + 32\n",
    "    elif origen == \"F\" and destino == \"C\":\n",
    "        temperatura = (valor-32)*(5/9)\n",
    "    elif origen == \"F\" and destino == \"K\":\n",
    "        temperatura = (valor+459.67)*(5/9)\n",
    "    elif origen == \"K\" and destino == \"C\":\n",
    "        temperatura = valor - 273.15\n",
    "    elif origen == \"K\" and destino == \"F\":\n",
    "        temperatura = 1.8 * (valor-273) + 32\n",
    "    return temperatura\n",
    "\n",
    "valor = int(input(\"¿Que valor deseas convertir?\"))\n",
    "origen = input(\"¿De que unidad quieres convertir 'C' 'F' 'K' ?\")\n",
    "destino = input(\"¿A que unidad los quieres convertir 'C' 'F' 'K' ?\")\n",
    "conversion(valor,origen,destino)"
   ]
  },
  {
   "cell_type": "code",
   "execution_count": 62,
   "metadata": {},
   "outputs": [
    {
     "data": {
      "text/plain": [
       "('10°C equivalen a 283.15K', '10°C equivalen a 50.0°F')"
      ]
     },
     "execution_count": 62,
     "metadata": {},
     "output_type": "execute_result"
    }
   ],
   "source": [
    "#6) Iterando una lista con los tres valores posibles de temperatura que recibe la función del punto 5, hacer un print para cada combinación de los mismos:\n",
    "def conversion(valor,origen,destino):\n",
    "    if origen == \"C\" and destino == \"K\" or destino == \"F\":\n",
    "        temperatura1 = f\"{valor}°C equivalen a {valor + 273.15}K\"\n",
    "        temperatura2 = f\"{valor}°C equivalen a {(valor*1.8) + 32}°F\"\n",
    "    elif origen == \"F\" and destino == \"C\" or destino == \"K\":\n",
    "        temperatura1 = f\"{valor}°F equivalen a {(valor-32)*(5/9)}°C\"\n",
    "        temperatura2 = f\"{valor}°F equivalen a  {(valor+459.67)*(5/9)}°K\"\n",
    "    elif origen == \"K\" and destino == \"C\" or destino == \"F\":\n",
    "        temperatura1 = f\"{valor}°K equivalen a {valor - 273.15}°C\"\n",
    "        temperatura2 = f\"{valor}°K equivalen a {1.8 * (valor-273) + 32}°F\"\n",
    "    return temperatura1,temperatura2\n",
    "\n",
    "valor = int(input(\"¿Que valor deseas convertir?\"))\n",
    "origen = input(\"¿De que unidad quieres convertir 'C' 'F' 'K' ?\")\n",
    "destino = input(\"¿A que unidad los quieres convertir 'C' 'F' 'K' ?\")\n",
    "conversion(valor,origen,destino)"
   ]
  },
  {
   "cell_type": "code",
   "execution_count": 66,
   "metadata": {},
   "outputs": [
    {
     "data": {
      "text/plain": [
       "'El factorial de 9 es 362880'"
      ]
     },
     "execution_count": 66,
     "metadata": {},
     "output_type": "execute_result"
    }
   ],
   "source": [
    "#7) Armar una función que devuelva el factorial de un número. Tener en cuenta que el usuario puede equivocarse y enviar de parámetro un número no entero o negativo\n",
    "def factorial(numero):\n",
    "    elemento = 1\n",
    "    for i in range(1,numero+1):\n",
    "        elemento = elemento * i\n",
    "    return f\"El factorial de {numero} es {elemento}\"\n",
    "\n",
    "num = int(input(\"Introduce un numero\"))\n",
    "factorial(num)"
   ]
  }
 ],
 "metadata": {
  "kernelspec": {
   "display_name": "Python 3",
   "language": "python",
   "name": "python3"
  },
  "language_info": {
   "codemirror_mode": {
    "name": "ipython",
    "version": 3
   },
   "file_extension": ".py",
   "mimetype": "text/x-python",
   "name": "python",
   "nbconvert_exporter": "python",
   "pygments_lexer": "ipython3",
   "version": "3.11.2"
  },
  "orig_nbformat": 4,
  "vscode": {
   "interpreter": {
    "hash": "0f936f15a1645b7aa20087d3a97f1d17223522717264c1db5bbe498837b523be"
   }
  }
 },
 "nbformat": 4,
 "nbformat_minor": 2
}

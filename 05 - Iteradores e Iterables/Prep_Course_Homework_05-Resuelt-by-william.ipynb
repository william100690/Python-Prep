{
 "cells": [
  {
   "cell_type": "code",
   "execution_count": 4,
   "metadata": {},
   "outputs": [
    {
     "name": "stdout",
     "output_type": "stream",
     "text": [
      "[-15, -14, -13, -12, -11, -10, -9, -8, -7, -6, -5, -4, -3, -2, -1]\n"
     ]
    }
   ],
   "source": [
    "# 1) A partir de una lista vacía, utilizar un ciclo while para cargar allí números negativos del -15 al -1\n",
    "lista = []\n",
    "num = -15\n",
    "while num < 0:\n",
    "    lista.append(num)\n",
    "    num += 1\n",
    "\n",
    "print(lista)"
   ]
  },
  {
   "cell_type": "code",
   "execution_count": 11,
   "metadata": {},
   "outputs": [
    {
     "name": "stdout",
     "output_type": "stream",
     "text": [
      "[1, 2, 3, 4, 5, 6, 7, 8, 9, 10, 11, 12, 13, 14, 15, 16, 17, 18, 19, 20]\n",
      "los numeros pares son: [2, 4, 6, 8, 10, 12, 14, 16, 18, 20]\n",
      "Los numeros pares son:\n",
      "2 4 6 8 10 12 14 16 18 20 "
     ]
    }
   ],
   "source": [
    "# 2) ¿Con un ciclo while sería posible recorrer la lista para imprimir sólo los números pares?\n",
    "lista = [i for i in range(1,21)] #hacemos la lista\n",
    "print(lista)\n",
    "pares = []\n",
    "i= 0\n",
    "while i < len(lista):\n",
    "    elemento = lista[i]\n",
    "    if elemento % 2 == 0:\n",
    "        pares.append(elemento)\n",
    "    i += 1\n",
    "print(\"los numeros pares son:\",pares)\n",
    "\n",
    "pares_str = [str(i) for i in pares]\n",
    "print(\"Los numeros pares son:\")\n",
    "for i in pares_str:\n",
    "    print(i,\"\",end=\"\")"
   ]
  },
  {
   "cell_type": "code",
   "execution_count": 91,
   "metadata": {},
   "outputs": [
    {
     "name": "stdout",
     "output_type": "stream",
     "text": [
      "[1, 2, 3, 4, 5, 6, 7, 8, 9, 10, 11, 12, 13, 14, 15, 16, 17, 18, 19, 20]\n",
      "los numeros pares son:\n",
      "2 4 6 8 10 12 14 16 18 20 "
     ]
    }
   ],
   "source": [
    "# 3) Resolver el punto anterior sin utilizar un ciclo while\n",
    "lista = [i for i in range(1,21)] #hacemos la lista\n",
    "print(lista)\n",
    "print(\"los numeros pares son:\")\n",
    "for i in lista:\n",
    "    if i % 2 == 0:\n",
    "        print(i,\"\",end=\"\")\n"
   ]
  },
  {
   "cell_type": "code",
   "execution_count": 92,
   "metadata": {},
   "outputs": [
    {
     "name": "stdout",
     "output_type": "stream",
     "text": [
      "[1, 2, 3, 4, 5, 6, 7, 8, 9, 10, 11, 12, 13, 14, 15, 16, 17, 18, 19, 20]\n",
      "1\n",
      "2\n",
      "3\n"
     ]
    }
   ],
   "source": [
    "#4) Utilizar el iterable para recorrer sólo los primeros 3 elementos\n",
    "print(lista)\n",
    "for i in lista[:3]:\n",
    "    print(i)"
   ]
  },
  {
   "cell_type": "code",
   "execution_count": 95,
   "metadata": {},
   "outputs": [
    {
     "name": "stdout",
     "output_type": "stream",
     "text": [
      "[1, 2, 3, 4, 5, 6, 7, 8, 9, 10, 11, 12, 13, 14, 15, 16, 17, 18, 19, 20]\n",
      "El elemento 1 tiene la posición 0\n",
      "El elemento 2 tiene la posición 1\n",
      "El elemento 3 tiene la posición 2\n",
      "El elemento 4 tiene la posición 3\n",
      "El elemento 5 tiene la posición 4\n",
      "El elemento 6 tiene la posición 5\n",
      "El elemento 7 tiene la posición 6\n",
      "El elemento 8 tiene la posición 7\n",
      "El elemento 9 tiene la posición 8\n",
      "El elemento 10 tiene la posición 9\n",
      "El elemento 11 tiene la posición 10\n",
      "El elemento 12 tiene la posición 11\n",
      "El elemento 13 tiene la posición 12\n",
      "El elemento 14 tiene la posición 13\n",
      "El elemento 15 tiene la posición 14\n",
      "El elemento 16 tiene la posición 15\n",
      "El elemento 17 tiene la posición 16\n",
      "El elemento 18 tiene la posición 17\n",
      "El elemento 19 tiene la posición 18\n",
      "El elemento 20 tiene la posición 19\n"
     ]
    }
   ],
   "source": [
    "# 5) Utilizar la función **enumerate** para obtener dentro del iterable, tambien el índice al que corresponde el elemento\n",
    "print(lista)\n",
    "for i, k in enumerate(lista):\n",
    "    print(f\"El elemento {k} tiene la posición {i}\")"
   ]
  },
  {
   "cell_type": "code",
   "execution_count": 98,
   "metadata": {},
   "outputs": [
    {
     "name": "stdout",
     "output_type": "stream",
     "text": [
      "[1, 2, 5, 7, 8, 10, 13, 14, 15, 17, 20]\n",
      "[1, 2, 3, 4, 5, 6, 7, 8, 9, 10, 11, 12, 13, 14, 15, 16, 17, 18, 19, 20]\n"
     ]
    }
   ],
   "source": [
    "#6) Dada la siguiente lista de números enteros entre 1 y 20, crear un ciclo donde se completen los valores faltantes: lista = [1,2,5,7,8,10,13,14,15,17,20]\n",
    "lista = [1,2,5,7,8,10,13,14,15,17,20]\n",
    "print(lista)\n",
    "n = 0\n",
    "while n < lista[-1]:\n",
    "    n += 1\n",
    "    if n not in lista:\n",
    "        lista.insert(n-1,n)\n",
    "\n",
    "print(lista)"
   ]
  },
  {
   "cell_type": "code",
   "execution_count": 104,
   "metadata": {},
   "outputs": [
    {
     "name": "stdout",
     "output_type": "stream",
     "text": [
      "[1, 1, 2, 3, 5, 8, 13, 21, 34, 55, 89, 144, 233, 377, 610, 987, 1597, 2584, 4181, 6765, 10946, 17711, 28657, 46368, 75025, 121393, 196418, 317811, 514229, 832040]\n"
     ]
    }
   ],
   "source": [
    "#7) La sucesión de Fibonacci es un listado de números que sigue la fórmula\n",
    "#1 1 2 3 5 8 13... crea una serie fibonacci de 30 iteraciones\n",
    "a = 0\n",
    "b = 1\n",
    "c = 0\n",
    "fibo = []\n",
    "for i in range(1,31):\n",
    "    #print(c,\" \",end=\"\")\n",
    "    a = b\n",
    "    b = c\n",
    "    c = a + b\n",
    "    fibo.append(c)\n",
    "print(fibo)"
   ]
  },
  {
   "cell_type": "code",
   "execution_count": 105,
   "metadata": {},
   "outputs": [
    {
     "name": "stdout",
     "output_type": "stream",
     "text": [
      "2178308\n"
     ]
    }
   ],
   "source": [
    "#8) Realizar la suma de todos elementos de la lista del punto anterior\n",
    "suma_fibo = sum(fibo)\n",
    "print(suma_fibo)"
   ]
  },
  {
   "cell_type": "code",
   "execution_count": 34,
   "metadata": {},
   "outputs": [],
   "source": [
    "# **9) La proporción aurea se expresa con una proporción matemática que nace el número irracional Phi= 1,618… que los griegos llamaron número áureo. El cuál se puede aproximar con la sucesión de Fibonacci. Con la lista del ejercicio anterior, imprimir el cociente de los últimos 5 pares de dos números contiguos:<br>\n",
    "#Donde i es la cantidad total de elementos<br>\n",
    "#n<sub>i-1</sub> / n<sub>i</sub><br>\n",
    "#n<sub>i-2</sub> / n<sub>i-1</sub><br>\n",
    "#n<sub>i-3</sub> / n<sub>i-2</sub><br>\n",
    "#n<sub>i-4</sub> / n<sub>i-3</sub><br>\n",
    "#n<sub>i-5</sub> / n<sub>i-4</sub><br>"
   ]
  },
  {
   "cell_type": "code",
   "execution_count": 106,
   "metadata": {},
   "outputs": [
    {
     "name": "stdout",
     "output_type": "stream",
     "text": [
      "La letra a tiene la posición 1\n",
      "La letra a tiene la posición 3\n",
      "La letra a tiene la posición 6\n",
      "La letra a tiene la posición 9\n",
      "La letra a tiene la posición 11\n",
      "La letra a tiene la posición 16\n",
      "La letra a tiene la posición 31\n",
      "La letra a tiene la posición 33\n"
     ]
    }
   ],
   "source": [
    "#10) A partir de la variable cadena ya dada, mostrar en qué posiciones aparece la letra \"n\"<br>\n",
    "#cadena = 'Hola Mundo. Esto es una practica del lenguaje de programación Python'\n",
    "cadena = \"Cada manzana esta muy bien ciudada\"\n",
    "\n",
    "for i, j in enumerate(cadena):\n",
    "    if j == \"a\":\n",
    "        print(f\"La letra {j} tiene la posición {i}\")\n"
   ]
  },
  {
   "cell_type": "code",
   "execution_count": 38,
   "metadata": {},
   "outputs": [
    {
     "name": "stdout",
     "output_type": "stream",
     "text": [
      "dict_keys(['nombres', 'edades', 'pais'])\n"
     ]
    }
   ],
   "source": [
    "# 11) Crear un diccionario e imprimir sus claves utilizando un iterador\n",
    "mi_diccionario = {\"nombres\":[\"Juan\",\"Paco\",\"Pedro\"],\n",
    "                  \"edades\":[30,35,32],\n",
    "                  \"pais\":[\"México\",\"España\",\"Argentina\"]}\n",
    "\n",
    "print(mi_diccionario.keys())"
   ]
  },
  {
   "cell_type": "code",
   "execution_count": 41,
   "metadata": {},
   "outputs": [
    {
     "name": "stdout",
     "output_type": "stream",
     "text": [
      "Hola Mundo\n",
      "['H', 'o', 'l', 'a', ' ', 'M', 'u', 'n', 'd', 'o']\n",
      "H\n",
      "o\n",
      "l\n",
      "a\n",
      " \n",
      "M\n",
      "u\n",
      "n\n",
      "d\n",
      "o\n"
     ]
    }
   ],
   "source": [
    "# 12) Convertir en una lista la variable \"cadena\" del punto 10 y luego recorrerla con un iterador \n",
    "print(cadena)\n",
    "lista_cadena = list(cadena)\n",
    "print(lista_cadena)\n",
    "for i in lista_cadena:\n",
    "    print(i)"
   ]
  },
  {
   "cell_type": "code",
   "execution_count": 43,
   "metadata": {},
   "outputs": [
    {
     "name": "stdout",
     "output_type": "stream",
     "text": [
      "['Juan', 'Paco', 'Pedro', 'Luis']\n",
      "['30', '36', '31', '34']\n",
      "[('Juan', '30'), ('Paco', '36'), ('Pedro', '31'), ('Luis', '34')]\n"
     ]
    }
   ],
   "source": [
    "# 13) Crear dos listas y unirlas en una tupla utilizando la función zip\n",
    "nombres = [\"Juan\",\"Paco\",\"Pedro\",\"Luis\"]\n",
    "edades = [\"30\",\"36\",\"31\",\"34\"]\n",
    "print(nombres)\n",
    "print(edades)\n",
    "\n",
    "nombre_y_edades = zip(nombres,edades)\n",
    "print(list(nombre_y_edades))"
   ]
  },
  {
   "cell_type": "code",
   "execution_count": 44,
   "metadata": {},
   "outputs": [
    {
     "name": "stdout",
     "output_type": "stream",
     "text": [
      "[18, 21, 29, 32, 35, 42, 56, 60, 63, 71, 84, 90, 91, 100]\n",
      "[21, 35, 42, 56, 63, 84, 91]\n"
     ]
    }
   ],
   "source": [
    "# 14) A partir de la siguiente lista de números, crear una nueva sólo si el número es divisible por 7<br>\n",
    "lis = [18,21,29,32,35,42,56,60,63,71,84,90,91,100]\n",
    "print(lis)\n",
    "new_list = []\n",
    "for i in lis:\n",
    "    if i%7 == 0:\n",
    "        new_list.append(i)\n",
    "    \n",
    "print(new_list)"
   ]
  },
  {
   "cell_type": "code",
   "execution_count": 60,
   "metadata": {},
   "outputs": [
    {
     "name": "stdout",
     "output_type": "stream",
     "text": [
      "[[1, 2, 3, 4], 'rojo', 'verde', [True, False, False], ['uno', 'dos', 'tres']]\n",
      "Dentro de toda la lista hay 12 elementos\n"
     ]
    }
   ],
   "source": [
    "# 15) A partir de la lista de a continuación, contar la cantidad total de elementos que contiene, teniendo en cuenta que un elemento de la lista podría ser otra lista:<br>\n",
    "lis = [[1,2,3,4],'rojo','verde',[True,False,False],['uno','dos','tres']]\n",
    "print(lis)\n",
    "cantidad = 0\n",
    "for i in lis:\n",
    "    if type(i) == list:\n",
    "        for l in i:\n",
    "            cantidad += 1\n",
    "    else:\n",
    "        cantidad += 1\n",
    "print(f\"Dentro de toda la lista hay {cantidad} elementos\")\n"
   ]
  },
  {
   "cell_type": "code",
   "execution_count": 110,
   "metadata": {},
   "outputs": [
    {
     "name": "stdout",
     "output_type": "stream",
     "text": [
      "[[1, 2, 3, 4], 'rojo', 'verde', [True, False, False], ['uno', 'dos', 'tres']]\n",
      "[[1, 2, 3, 4], ['rojo'], ['verde'], [True, False, False], ['uno', 'dos', 'tres']]\n"
     ]
    }
   ],
   "source": [
    "# 16) Tomar la lista del punto anterior y convertir cada elemento en una lista si no lo es\n",
    "lis = [[1,2,3,4],'rojo','verde',[True,False,False],['uno','dos','tres']]\n",
    "print(lis)\n",
    "\n",
    "for i, l in enumerate(lis):\n",
    "    if type(l) != list:\n",
    "        lis[i] = [l]\n",
    "\n",
    "print(lis)"
   ]
  },
  {
   "cell_type": "code",
   "execution_count": null,
   "metadata": {},
   "outputs": [],
   "source": []
  }
 ],
 "metadata": {
  "kernelspec": {
   "display_name": "Python 3",
   "language": "python",
   "name": "python3"
  },
  "language_info": {
   "codemirror_mode": {
    "name": "ipython",
    "version": 3
   },
   "file_extension": ".py",
   "mimetype": "text/x-python",
   "name": "python",
   "nbconvert_exporter": "python",
   "pygments_lexer": "ipython3",
   "version": "3.11.2"
  },
  "orig_nbformat": 4,
  "vscode": {
   "interpreter": {
    "hash": "0f936f15a1645b7aa20087d3a97f1d17223522717264c1db5bbe498837b523be"
   }
  }
 },
 "nbformat": 4,
 "nbformat_minor": 2
}

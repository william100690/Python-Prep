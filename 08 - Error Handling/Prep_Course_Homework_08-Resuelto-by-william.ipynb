{
 "cells": [
  {
   "cell_type": "code",
   "execution_count": 1,
   "metadata": {},
   "outputs": [
    {
     "ename": "ModuleNotFoundError",
     "evalue": "No module named 'modulo_william'",
     "output_type": "error",
     "traceback": [
      "\u001b[1;31m---------------------------------------------------------------------------\u001b[0m",
      "\u001b[1;31mModuleNotFoundError\u001b[0m                       Traceback (most recent call last)",
      "Cell \u001b[1;32mIn[1], line 5\u001b[0m\n\u001b[0;32m      1\u001b[0m \u001b[39m#1) Con la clase creada en el módulo 7, tener en cuenta diferentes casos en que el código \u001b[39;00m\n\u001b[0;32m      2\u001b[0m \u001b[39m# pudiera arrojar error. Por ejemplo, en la creación del objeto recibimos una lista de números enteros \u001b[39;00m\n\u001b[0;32m      3\u001b[0m \u001b[39m# pero ¿qué pasa si se envía otro tipo de dato?\u001b[39;00m\n\u001b[1;32m----> 5\u001b[0m \u001b[39mfrom\u001b[39;00m \u001b[39mmodulo_william\u001b[39;00m \u001b[39mimport\u001b[39;00m primo\n",
      "\u001b[1;31mModuleNotFoundError\u001b[0m: No module named 'modulo_william'"
     ]
    }
   ],
   "source": [
    "#1) Con la clase creada en el módulo 7, tener en cuenta diferentes casos en que el código \n",
    "# pudiera arrojar error. Por ejemplo, en la creación del objeto recibimos una lista de números enteros \n",
    "# pero ¿qué pasa si se envía otro tipo de dato?\n",
    "\n",
    "from modulo_william import primo"
   ]
  }
 ],
 "metadata": {
  "kernelspec": {
   "display_name": "Python 3",
   "language": "python",
   "name": "python3"
  },
  "language_info": {
   "codemirror_mode": {
    "name": "ipython",
    "version": 3
   },
   "file_extension": ".py",
   "mimetype": "text/x-python",
   "name": "python",
   "nbconvert_exporter": "python",
   "pygments_lexer": "ipython3",
   "version": "3.11.2"
  },
  "orig_nbformat": 4,
  "vscode": {
   "interpreter": {
    "hash": "0f936f15a1645b7aa20087d3a97f1d17223522717264c1db5bbe498837b523be"
   }
  }
 },
 "nbformat": 4,
 "nbformat_minor": 2
}

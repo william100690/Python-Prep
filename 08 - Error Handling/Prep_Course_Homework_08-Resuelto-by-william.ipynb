{
 "cells": [
  {
   "cell_type": "code",
   "execution_count": 137,
   "metadata": {},
   "outputs": [],
   "source": [
    "#1) Con la clase creada en el módulo 7, tener en cuenta diferentes casos en que el código \n",
    "# pudiera arrojar error. Por ejemplo, en la creación del objeto recibimos una lista de números enteros \n",
    "# pero ¿qué pasa si se envía otro tipo de dato?\n",
    "\n",
    "\n",
    "class prueba:\n",
    "    def __init__(self,numero):\n",
    "        self.numero = numero\n",
    "    \n",
    "        assert type(numero) == int, f\"{numero} no es del tipo int\"\n",
    "        assert 0 < (numero) <= 50, f\"{numero} no esta dentro del rango 1 a 50\"\n",
    "\n",
    "\n",
    "    def primo(self):\n",
    "\n",
    "\n",
    "        cont = 0\n",
    "        for j in range(1, self.numero +1):\n",
    "            if self.numero %j == 0:\n",
    "                cont += 1\n",
    "    \n",
    "        if cont <= 2:\n",
    "            return f\"El numero {self.numero} si es primo\", True\n",
    "        else:\n",
    "            return f\"El numero {self.numero} no es primo\", False\n",
    "        \n",
    "    def conversion(self,origen,destino):\n",
    "\n",
    "        if origen == \"C\" and destino == \"K\" or destino == \"F\":\n",
    "            temperatura1 = f\"{self.numero}°C equivalen a {self.numero + 273.15}K\"\n",
    "            temperatura2 = f\"{self.numero}°C equivalen a {(self.numero*1.8) + 32}°F\"\n",
    "        elif origen == \"F\" and destino == \"C\" or destino == \"K\":\n",
    "            temperatura1 = f\"{self.numero}°F equivalen a {(self.numero-32)*(5/9)}°C\"\n",
    "            temperatura2 = f\"{self.numero}°F equivalen a  {(self.numero+459.67)*(5/9)}°K\"\n",
    "        elif origen == \"K\" and destino == \"C\" or destino == \"F\":\n",
    "            temperatura1 = f\"{self.numero}°K equivalen a {self.numero - 273.15}°C\"\n",
    "            temperatura2 = f\"{self.numero}°K equivalen a {1.8 * (self.numero-273) + 32}°F\"\n",
    "        return temperatura1,temperatura2\n",
    "    \n",
    "    def factorial(self):\n",
    "\n",
    "        elemento = 1\n",
    "        for i in range(1,self.numero+1):\n",
    "            elemento = elemento * i\n",
    "        return f\"El factorial de {self.numero} es {elemento}\""
   ]
  },
  {
   "cell_type": "code",
   "execution_count": 142,
   "metadata": {},
   "outputs": [
    {
     "name": "stdout",
     "output_type": "stream",
     "text": [
      "('El numero 25 no es primo', False)\n",
      "El factorial de 25 es 15511210043330985984000000\n",
      "('25°C equivalen a 298.15K', '25°C equivalen a 77.0°F')\n"
     ]
    }
   ],
   "source": [
    "n1 = prueba(25)\n",
    "print(n1.primo())\n",
    "print(n1.factorial())\n",
    "print(n1.conversion(\"C\",\"K\"))\n"
   ]
  }
 ],
 "metadata": {
  "kernelspec": {
   "display_name": "Python 3",
   "language": "python",
   "name": "python3"
  },
  "language_info": {
   "codemirror_mode": {
    "name": "ipython",
    "version": 3
   },
   "file_extension": ".py",
   "mimetype": "text/x-python",
   "name": "python",
   "nbconvert_exporter": "python",
   "pygments_lexer": "ipython3",
   "version": "3.11.2"
  },
  "orig_nbformat": 4,
  "vscode": {
   "interpreter": {
    "hash": "0f936f15a1645b7aa20087d3a97f1d17223522717264c1db5bbe498837b523be"
   }
  }
 },
 "nbformat": 4,
 "nbformat_minor": 2
}

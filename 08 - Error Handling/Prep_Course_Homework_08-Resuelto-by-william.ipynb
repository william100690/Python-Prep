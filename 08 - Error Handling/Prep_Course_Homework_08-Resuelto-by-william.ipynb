{
 "cells": [
  {
   "cell_type": "code",
   "execution_count": 14,
   "metadata": {},
   "outputs": [],
   "source": [
    "#1) Con la clase creada en el módulo 7, tener en cuenta diferentes casos en que el código \n",
    "# pudiera arrojar error. Por ejemplo, en la creación del objeto recibimos una lista de números enteros \n",
    "# pero ¿qué pasa si se envía otro tipo de dato?\n",
    "\n",
    "\n",
    "class prueba:\n",
    "    def __init__(self,numero):\n",
    "        self.numero = numero\n",
    "    \n",
    "        assert type(numero) == int, f\"{numero} no es del tipo int\"\n",
    "        assert 0 < (numero) <= 50, f\"{numero} no esta dentro del rango 1 a 50\"\n",
    "\n",
    "\n",
    "    def primo(numero):\n",
    "\n",
    "\n",
    "        cont = 0\n",
    "        for j in range(1, numero +1):\n",
    "            if numero %j == 0:\n",
    "                cont += 1\n",
    "    \n",
    "        if cont <= 2:\n",
    "            return f\"El numero {numero} si es primo\", True\n",
    "        else:\n",
    "            return f\"El numero {numero} no es primo\", False\n",
    "    #2) En la función que hace la conversión de grados, validar \n",
    "    # que los parámetros enviados sean los esperados, de no serlo, \n",
    "    # informar cuáles son los valores esperados.        \n",
    "    def conversion(numero,origen,destino):\n",
    "\n",
    "        assert origen == \"C\" or origen == \"K\" or origen == \"F\", f\"{origen} no es una letra valida introduce 'C','k','F' \"\n",
    "        assert destino == \"C\" or destino == \"K\" or destino == \"F\", f\"{destino} no es una letra valida introduce 'C','K','F' \"\n",
    "\n",
    "        if origen == \"C\" and destino == \"K\" or destino == \"F\":\n",
    "            temperatura1 = f\"{numero}°C equivalen a {numero + 273.15}K\"\n",
    "            temperatura2 = f\"{numero}°C equivalen a {(numero*1.8) + 32}°F\"\n",
    "        elif origen == \"F\" and destino == \"C\" or destino == \"K\":\n",
    "            temperatura1 = f\"{numero}°F equivalen a {(numero-32)*(5/9)}°C\"\n",
    "            temperatura2 = f\"{numero}°F equivalen a  {(numero+459.67)*(5/9)}°K\"\n",
    "        elif origen == \"K\" and destino == \"C\" or destino == \"F\":\n",
    "            temperatura1 = f\"{numero}°K equivalen a {numero - 273.15}°C\"\n",
    "            temperatura2 = f\"{numero}°K equivalen a {1.8 * (numero-273) + 32}°F\"\n",
    "        return temperatura1,temperatura2\n",
    "    \n",
    "    def factorial(numero):\n",
    "\n",
    "        elemento = 1\n",
    "        for i in range(1,numero+1):\n",
    "            elemento = elemento * i\n",
    "        return f\"El factorial de {numero} es {elemento}\""
   ]
  },
  {
   "cell_type": "code",
   "execution_count": 12,
   "metadata": {},
   "outputs": [
    {
     "data": {
      "text/plain": [
       "<__main__.prueba at 0x1c486e7a090>"
      ]
     },
     "execution_count": 12,
     "metadata": {},
     "output_type": "execute_result"
    }
   ],
   "source": [
    "#1 aqui podemos ver como al introducir otro tipo de dato aparece el error \n",
    "prueba(25)\n"
   ]
  },
  {
   "cell_type": "code",
   "execution_count": 11,
   "metadata": {},
   "outputs": [
    {
     "data": {
      "text/plain": [
       "('50°C equivalen a 323.15K', '50°C equivalen a 122.0°F')"
      ]
     },
     "execution_count": 11,
     "metadata": {},
     "output_type": "execute_result"
    }
   ],
   "source": [
    "#2 aqui podemos observar como el metodo conversión rechaza a la letra 'D' ya que el método evalua \n",
    "#los parametros enviados y esta letra no es uno de los parámetros permitidos\n",
    "prueba.conversion(50,\"K\",\"F\")\n"
   ]
  }
 ],
 "metadata": {
  "kernelspec": {
   "display_name": "Python 3",
   "language": "python",
   "name": "python3"
  },
  "language_info": {
   "codemirror_mode": {
    "name": "ipython",
    "version": 3
   },
   "file_extension": ".py",
   "mimetype": "text/x-python",
   "name": "python",
   "nbconvert_exporter": "python",
   "pygments_lexer": "ipython3",
   "version": "3.11.2"
  },
  "orig_nbformat": 4,
  "vscode": {
   "interpreter": {
    "hash": "0f936f15a1645b7aa20087d3a97f1d17223522717264c1db5bbe498837b523be"
   }
  }
 },
 "nbformat": 4,
 "nbformat_minor": 2
}

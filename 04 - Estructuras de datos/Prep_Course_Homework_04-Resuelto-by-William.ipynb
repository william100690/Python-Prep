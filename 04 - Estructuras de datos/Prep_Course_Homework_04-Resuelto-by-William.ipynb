{
 "cells": [
  {
   "cell_type": "code",
   "execution_count": 23,
   "metadata": {},
   "outputs": [
    {
     "name": "stdout",
     "output_type": "stream",
     "text": [
      "['Londres', 'Ciudad de México', 'Moscu', 'Paris', 'Barcelona', 'Roma']\n"
     ]
    }
   ],
   "source": [
    "#1) Crear una lista que contenga nombres de ciudades del mundo que contenga más de 5 elementos e imprimir por pantalla\n",
    "ciudades = [\"Londres\",\"Ciudad de México\",\"Moscu\",\"Paris\",\"Barcelona\",\"Roma\"]\n",
    "print(ciudades)"
   ]
  },
  {
   "cell_type": "code",
   "execution_count": 4,
   "metadata": {},
   "outputs": [
    {
     "name": "stdout",
     "output_type": "stream",
     "text": [
      "Ciudad de México\n"
     ]
    }
   ],
   "source": [
    "print(ciudades[1])"
   ]
  },
  {
   "cell_type": "code",
   "execution_count": 6,
   "metadata": {},
   "outputs": [
    {
     "name": "stdout",
     "output_type": "stream",
     "text": [
      "['Ciudad de México', 'Moscu', 'Paris']\n"
     ]
    }
   ],
   "source": [
    "# 3) Imprimir por pantalla del segundo al cuarto elemento\n",
    "print(ciudades[1:4])"
   ]
  },
  {
   "cell_type": "code",
   "execution_count": 75,
   "metadata": {},
   "outputs": [
    {
     "data": {
      "text/plain": [
       "list"
      ]
     },
     "execution_count": 75,
     "metadata": {},
     "output_type": "execute_result"
    }
   ],
   "source": [
    "# 4) Visualizar el tipo de dato de la lista\n",
    "type(ciudades)"
   ]
  },
  {
   "cell_type": "code",
   "execution_count": 10,
   "metadata": {},
   "outputs": [
    {
     "name": "stdout",
     "output_type": "stream",
     "text": [
      "['Moscu', 'Paris', 'Barcelona', 'Roma']\n"
     ]
    }
   ],
   "source": [
    "#5) Visualizar todos los elementos de la lista a partir del tercero de manera genérica, es decir, sin explicitar la posición del último elemento\n",
    "print(ciudades[2:])"
   ]
  },
  {
   "cell_type": "code",
   "execution_count": 25,
   "metadata": {},
   "outputs": [
    {
     "name": "stdout",
     "output_type": "stream",
     "text": [
      "['Londres', 'Ciudad de México', 'Moscu', 'Paris']\n"
     ]
    }
   ],
   "source": [
    "#6) Visualizar los primeros 4 elementos de la lista\n",
    "print(ciudades[:4])"
   ]
  },
  {
   "cell_type": "code",
   "execution_count": 28,
   "metadata": {},
   "outputs": [
    {
     "name": "stdout",
     "output_type": "stream",
     "text": [
      "['Londres', 'Ciudad de México', 'Moscu', 'Paris', 'Barcelona', 'Roma']\n",
      "['Londres', 'Ciudad de México', 'Moscu', 'Paris', 'Barcelona', 'Roma', 'Londres', 'Río']\n"
     ]
    }
   ],
   "source": [
    "# 7) Agregar una ciudad más a la lista que ya exista y otra que no ¿Arroja algún tipo de error?\n",
    "print(ciudades)\n",
    "ciudades.append(\"Londres\")\n",
    "ciudades.append(\"Río\")\n",
    "print(ciudades)"
   ]
  },
  {
   "cell_type": "code",
   "execution_count": 31,
   "metadata": {},
   "outputs": [
    {
     "name": "stdout",
     "output_type": "stream",
     "text": [
      "['Londres', 'Ciudad de México', 'Moscu', 'Panama', 'Paris', 'Barcelona', 'Roma', 'Londres', 'Río']\n"
     ]
    }
   ],
   "source": [
    "#8) Agregar otra ciudad, pero en la cuarta posición\n",
    "ciudades.insert(3,\"Panama\")\n",
    "print(ciudades)"
   ]
  },
  {
   "cell_type": "code",
   "execution_count": 32,
   "metadata": {},
   "outputs": [
    {
     "name": "stdout",
     "output_type": "stream",
     "text": [
      "['Londres', 'Ciudad de México', 'Moscu', 'Panama', 'Paris', 'Barcelona', 'Roma', 'Londres', 'Río', 'Toronto', 'Costa rica', 'El Cairo']\n"
     ]
    }
   ],
   "source": [
    "# 9) Concatenar otra lista a la ya creada\n",
    "ciudades.extend([\"Toronto\",\"Costa rica\",\"El Cairo\"])\n",
    "print(ciudades)"
   ]
  },
  {
   "cell_type": "code",
   "execution_count": 33,
   "metadata": {},
   "outputs": [
    {
     "name": "stdout",
     "output_type": "stream",
     "text": [
      "0\n"
     ]
    }
   ],
   "source": [
    "# 10) Encontrar el índice de la ciudad que en el punto 7 agregamos duplicada. ¿Se nota alguna particularidad?\n",
    "print(ciudades.index(\"Londres\"))"
   ]
  },
  {
   "cell_type": "code",
   "execution_count": 34,
   "metadata": {},
   "outputs": [
    {
     "ename": "ValueError",
     "evalue": "'Hong kong' is not in list",
     "output_type": "error",
     "traceback": [
      "\u001b[1;31m---------------------------------------------------------------------------\u001b[0m",
      "\u001b[1;31mValueError\u001b[0m                                Traceback (most recent call last)",
      "Cell \u001b[1;32mIn[34], line 2\u001b[0m\n\u001b[0;32m      1\u001b[0m \u001b[39m# 11) ¿Qué pasa si se busca un elemento que no existe?\u001b[39;00m\n\u001b[1;32m----> 2\u001b[0m \u001b[39mprint\u001b[39m(ciudades\u001b[39m.\u001b[39;49mindex(\u001b[39m\"\u001b[39;49m\u001b[39mHong kong\u001b[39;49m\u001b[39m\"\u001b[39;49m))\n",
      "\u001b[1;31mValueError\u001b[0m: 'Hong kong' is not in list"
     ]
    }
   ],
   "source": [
    "# 11) ¿Qué pasa si se busca un elemento que no existe?\n",
    "print(ciudades.index(\"Hong kong\"))\n",
    "#Te marca error y te dice que no existe"
   ]
  },
  {
   "cell_type": "code",
   "execution_count": 35,
   "metadata": {},
   "outputs": [],
   "source": [
    "# 12) Eliminar un elemento de la lista\n",
    "del ciudades[0]\n"
   ]
  },
  {
   "cell_type": "code",
   "execution_count": 36,
   "metadata": {},
   "outputs": [
    {
     "name": "stdout",
     "output_type": "stream",
     "text": [
      "['Ciudad de México', 'Moscu', 'Panama', 'Paris', 'Barcelona', 'Roma', 'Londres', 'Río', 'Toronto', 'Costa rica', 'El Cairo']\n"
     ]
    }
   ],
   "source": [
    "print(ciudades)"
   ]
  },
  {
   "cell_type": "code",
   "execution_count": 39,
   "metadata": {},
   "outputs": [
    {
     "ename": "SyntaxError",
     "evalue": "cannot delete function call (2199559892.py, line 2)",
     "output_type": "error",
     "traceback": [
      "\u001b[1;36m  Cell \u001b[1;32mIn[39], line 2\u001b[1;36m\u001b[0m\n\u001b[1;33m    del ciudades(\"Hong kong\")\u001b[0m\n\u001b[1;37m        ^\u001b[0m\n\u001b[1;31mSyntaxError\u001b[0m\u001b[1;31m:\u001b[0m cannot delete function call\n"
     ]
    }
   ],
   "source": [
    "#13) ¿Qué pasa si el elemento a eliminar no existe?\n",
    "del ciudades(\"Hong kong\")\n",
    "print(ciudades)"
   ]
  },
  {
   "cell_type": "code",
   "execution_count": 40,
   "metadata": {},
   "outputs": [
    {
     "ename": "IndexError",
     "evalue": "list assignment index out of range",
     "output_type": "error",
     "traceback": [
      "\u001b[1;31m---------------------------------------------------------------------------\u001b[0m",
      "\u001b[1;31mIndexError\u001b[0m                                Traceback (most recent call last)",
      "Cell \u001b[1;32mIn[40], line 2\u001b[0m\n\u001b[0;32m      1\u001b[0m \u001b[39m# 13) ¿Qué pasa si el elemento a eliminar no existe?\u001b[39;00m\n\u001b[1;32m----> 2\u001b[0m \u001b[39mdel\u001b[39;00m ciudades[\u001b[39m50\u001b[39;49m]\n\u001b[0;32m      3\u001b[0m \u001b[39mprint\u001b[39m(ciudades)\n",
      "\u001b[1;31mIndexError\u001b[0m: list assignment index out of range"
     ]
    }
   ],
   "source": [
    "# 13) ¿Qué pasa si el elemento a eliminar no existe?\n",
    "del ciudades[50]\n",
    "print(ciudades)\n",
    "#Marca un error"
   ]
  },
  {
   "cell_type": "code",
   "execution_count": 41,
   "metadata": {},
   "outputs": [
    {
     "name": "stdout",
     "output_type": "stream",
     "text": [
      "['Ciudad de México', 'Moscu', 'Panama', 'Paris', 'Barcelona', 'Roma', 'Londres', 'Río', 'Toronto', 'Costa rica', 'El Cairo']\n",
      "['Ciudad de México', 'Moscu', 'Panama', 'Paris', 'Barcelona', 'Roma', 'Londres', 'Río', 'Toronto', 'Costa rica']\n"
     ]
    }
   ],
   "source": [
    "#14) Extraer el úlimo elemento de la lista, guardarlo en una variable e imprimirlo\n",
    "print(ciudades)\n",
    "ultimo_elemento = ciudades.pop(-1)\n",
    "print(ciudades)"
   ]
  },
  {
   "cell_type": "code",
   "execution_count": 42,
   "metadata": {},
   "outputs": [
    {
     "name": "stdout",
     "output_type": "stream",
     "text": [
      "El Cairo\n"
     ]
    }
   ],
   "source": [
    "print(ultimo_elemento)"
   ]
  },
  {
   "cell_type": "code",
   "execution_count": 43,
   "metadata": {},
   "outputs": [
    {
     "name": "stdout",
     "output_type": "stream",
     "text": [
      "['Ciudad de México', 'Moscu', 'Panama', 'Paris', 'Barcelona', 'Roma', 'Londres', 'Río', 'Toronto', 'Costa rica', 'Ciudad de México', 'Moscu', 'Panama', 'Paris', 'Barcelona', 'Roma', 'Londres', 'Río', 'Toronto', 'Costa rica', 'Ciudad de México', 'Moscu', 'Panama', 'Paris', 'Barcelona', 'Roma', 'Londres', 'Río', 'Toronto', 'Costa rica', 'Ciudad de México', 'Moscu', 'Panama', 'Paris', 'Barcelona', 'Roma', 'Londres', 'Río', 'Toronto', 'Costa rica']\n"
     ]
    }
   ],
   "source": [
    "#15) Mostrar la lista multiplicada por 4\n",
    "print(ciudades*4)"
   ]
  },
  {
   "cell_type": "code",
   "execution_count": 45,
   "metadata": {},
   "outputs": [
    {
     "name": "stdout",
     "output_type": "stream",
     "text": [
      "(1, 2, 3, 4, 5, 6, 7, 8, 9, 10, 11, 12, 13, 14, 15, 16, 17, 18, 19, 20)\n"
     ]
    }
   ],
   "source": [
    "#16) Crear una tupla que contenga los números enteros del 1 al 20\n",
    "tupla = (1,2,3,4,5,6,7,8,9,10,11,12,13,14,15,16,17,18,19,20)\n",
    "print(tupla)"
   ]
  },
  {
   "cell_type": "code",
   "execution_count": 49,
   "metadata": {},
   "outputs": [
    {
     "name": "stdout",
     "output_type": "stream",
     "text": [
      "(11, 12, 13, 14, 15)\n"
     ]
    }
   ],
   "source": [
    "#17) Imprimir desde el índice 10 al 15 de la tupla\n",
    "print(tupla[10:15])"
   ]
  },
  {
   "cell_type": "code",
   "execution_count": 50,
   "metadata": {},
   "outputs": [
    {
     "data": {
      "text/plain": [
       "True"
      ]
     },
     "execution_count": 50,
     "metadata": {},
     "output_type": "execute_result"
    }
   ],
   "source": [
    "#18) Evaluar si los números 20 y 30 están dentro de la tupla\n",
    "20 in tupla"
   ]
  },
  {
   "cell_type": "code",
   "execution_count": 58,
   "metadata": {},
   "outputs": [
    {
     "data": {
      "text/plain": [
       "False"
      ]
     },
     "execution_count": 58,
     "metadata": {},
     "output_type": "execute_result"
    }
   ],
   "source": [
    "30 in tupla"
   ]
  },
  {
   "cell_type": "code",
   "execution_count": 77,
   "metadata": {},
   "outputs": [
    {
     "name": "stdout",
     "output_type": "stream",
     "text": [
      "['Ciudad de México', 'Moscu', 'Panama', 'Paris', 'Barcelona', 'Roma', 'Londres', 'Río', 'Toronto', 'Costa rica']\n",
      "La ciudad Notradame no esta en la lista, ya la agregamos\n",
      "['Ciudad de México', 'Moscu', 'Panama', 'Paris', 'Barcelona', 'Roma', 'Londres', 'Río', 'Toronto', 'Costa rica', 'Notradame']\n"
     ]
    }
   ],
   "source": [
    "# 19) Con la lista creada en el punto 1, validar la existencia del elemento 'París' y si no existe, agregarlo. Utilizar una variable e informar lo sucedido.\n",
    "print(ciudades)\n",
    "elemento = \"Notradame\"\n",
    "if elemento in ciudades:\n",
    "    print(f\"La ciudad {elemento} esta en la lista\")\n",
    "else:\n",
    "    ciudades.append(elemento)\n",
    "    print(f\"La ciudad {elemento} no esta en la lista, ya la agregamos\")\n",
    "print(ciudades)"
   ]
  },
  {
   "cell_type": "code",
   "execution_count": 63,
   "metadata": {},
   "outputs": [
    {
     "name": "stdout",
     "output_type": "stream",
     "text": [
      "['Ciudad de México', 'Moscu', 'Panama', 'Paris', 'Barcelona', 'Roma', 'Londres', 'Río', 'Toronto', 'Costa rica']\n",
      "1\n",
      "1\n"
     ]
    }
   ],
   "source": [
    "# 20) Mostrar la cantidad de veces que se encuentra un elemento específico dentro de la tupla y de la lista\n",
    "print(ciudades)\n",
    "print(ciudades.count(\"Londres\"))\n",
    "print(tupla.count(10))"
   ]
  },
  {
   "cell_type": "code",
   "execution_count": 65,
   "metadata": {},
   "outputs": [
    {
     "name": "stdout",
     "output_type": "stream",
     "text": [
      "[1, 2, 3, 4, 5, 6, 7, 8, 9, 10, 11, 12, 13, 14, 15, 16, 17, 18, 19, 20]\n"
     ]
    }
   ],
   "source": [
    "# 21) Convertir la tupla en una lista\n",
    "lista2 = list(tupla)\n",
    "print(lista2)"
   ]
  },
  {
   "cell_type": "code",
   "execution_count": 84,
   "metadata": {},
   "outputs": [
    {
     "name": "stdout",
     "output_type": "stream",
     "text": [
      "1 2 3\n"
     ]
    }
   ],
   "source": [
    "#22) Desempaquetar solo los primeros 3 elementos de la tupla en 3 variables\n",
    "v1, v2, v3, _, _, _, _, _, _, _, _, _, _, _, _, _, _, _, _, _ = tupla\n",
    "print(v1, v2, v3)"
   ]
  },
  {
   "cell_type": "code",
   "execution_count": 71,
   "metadata": {},
   "outputs": [
    {
     "name": "stdout",
     "output_type": "stream",
     "text": [
      "{'ciudad': ['Ciudad de México', 'Moscu', 'Panama', 'Paris', 'Barcelona', 'Roma', 'Londres', 'Río', 'Toronto', 'Costa rica'], 'pais': 'de que pais es', 'continente': 'de que continente es'}\n"
     ]
    }
   ],
   "source": [
    "# 23) Crear un diccionario utilizando la lista crada en el punto 1, asignandole la clave \"ciudad\". Agregar tambien otras claves, como puede ser \"Pais\" y \"Continente\".\n",
    "mi_diccionario = { \"ciudad\":ciudades,\n",
    "                  \"pais\":\"de que pais es\",\n",
    "                  \"continente\":\"de que continente es\"}\n",
    "\n",
    "print(mi_diccionario)"
   ]
  },
  {
   "cell_type": "code",
   "execution_count": 72,
   "metadata": {},
   "outputs": [
    {
     "name": "stdout",
     "output_type": "stream",
     "text": [
      "dict_keys(['ciudad', 'pais', 'continente'])\n"
     ]
    }
   ],
   "source": [
    "# 24) Imprimir las claves del diccionario\n",
    "print(mi_diccionario.keys())"
   ]
  },
  {
   "cell_type": "code",
   "execution_count": 88,
   "metadata": {},
   "outputs": [
    {
     "name": "stdout",
     "output_type": "stream",
     "text": [
      "['Ciudad de México', 'Moscu', 'Panama', 'Paris', 'Barcelona', 'Roma', 'Londres', 'Río', 'Toronto', 'Costa rica', 'Notradame']\n"
     ]
    }
   ],
   "source": [
    "# 25) Imprimir las ciudades a través de su clave\n",
    "print(mi_diccionario[\"ciudad\"])"
   ]
  }
 ],
 "metadata": {
  "kernelspec": {
   "display_name": "Python 3",
   "language": "python",
   "name": "python3"
  },
  "language_info": {
   "codemirror_mode": {
    "name": "ipython",
    "version": 3
   },
   "file_extension": ".py",
   "mimetype": "text/x-python",
   "name": "python",
   "nbconvert_exporter": "python",
   "pygments_lexer": "ipython3",
   "version": "3.11.2"
  },
  "orig_nbformat": 4,
  "vscode": {
   "interpreter": {
    "hash": "0f936f15a1645b7aa20087d3a97f1d17223522717264c1db5bbe498837b523be"
   }
  }
 },
 "nbformat": 4,
 "nbformat_minor": 2
}
